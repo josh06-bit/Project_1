{
 "cells": [
  {
   "cell_type": "code",
   "execution_count": 2,
   "metadata": {},
   "outputs": [
    {
     "name": "stdout",
     "output_type": "stream",
     "text": [
      "Collecting prettytable==3.7.0\n",
      "  Downloading prettytable-3.7.0-py3-none-any.whl.metadata (26 kB)\n",
      "Collecting wcwidth (from prettytable==3.7.0)\n",
      "  Using cached wcwidth-0.2.13-py2.py3-none-any.whl.metadata (14 kB)\n",
      "Downloading prettytable-3.7.0-py3-none-any.whl (27 kB)\n",
      "Using cached wcwidth-0.2.13-py2.py3-none-any.whl (34 kB)\n",
      "Installing collected packages: wcwidth, prettytable\n",
      "  Attempting uninstall: wcwidth\n",
      "    Found existing installation: wcwidth 0.2.13\n",
      "    Uninstalling wcwidth-0.2.13:\n",
      "      Successfully uninstalled wcwidth-0.2.13\n",
      "  Attempting uninstall: prettytable\n",
      "    Found existing installation: prettytable 3.15.1\n",
      "    Uninstalling prettytable-3.15.1:\n",
      "      Successfully uninstalled prettytable-3.15.1\n",
      "Successfully installed prettytable-3.7.0 wcwidth-0.2.13\n"
     ]
    },
    {
     "name": "stderr",
     "output_type": "stream",
     "text": [
      "\n",
      "[notice] A new release of pip is available: 24.3.1 -> 25.0.1\n",
      "[notice] To update, run: python.exe -m pip install --upgrade pip\n"
     ]
    }
   ],
   "source": [
    "# install ipython-sql\n",
    "!pip install prettytable==3.7.0 --force-reinstall"
   ]
  },
  {
   "cell_type": "code",
   "execution_count": 3,
   "metadata": {},
   "outputs": [],
   "source": [
    "# import libraries\n",
    "import sqlite3\n",
    "import pandas as pd"
   ]
  },
  {
   "cell_type": "code",
   "execution_count": 6,
   "metadata": {},
   "outputs": [
    {
     "data": {
      "text/html": [
       "<div>\n",
       "<style scoped>\n",
       "    .dataframe tbody tr th:only-of-type {\n",
       "        vertical-align: middle;\n",
       "    }\n",
       "\n",
       "    .dataframe tbody tr th {\n",
       "        vertical-align: top;\n",
       "    }\n",
       "\n",
       "    .dataframe thead th {\n",
       "        text-align: right;\n",
       "    }\n",
       "</style>\n",
       "<table border=\"1\" class=\"dataframe\">\n",
       "  <thead>\n",
       "    <tr style=\"text-align: right;\">\n",
       "      <th></th>\n",
       "      <th>menu_item_id</th>\n",
       "      <th>item_name</th>\n",
       "      <th>category</th>\n",
       "      <th>price</th>\n",
       "    </tr>\n",
       "  </thead>\n",
       "  <tbody>\n",
       "    <tr>\n",
       "      <th>0</th>\n",
       "      <td>101</td>\n",
       "      <td>Hamburger</td>\n",
       "      <td>American</td>\n",
       "      <td>12.95</td>\n",
       "    </tr>\n",
       "    <tr>\n",
       "      <th>1</th>\n",
       "      <td>102</td>\n",
       "      <td>Cheeseburger</td>\n",
       "      <td>American</td>\n",
       "      <td>13.95</td>\n",
       "    </tr>\n",
       "    <tr>\n",
       "      <th>2</th>\n",
       "      <td>103</td>\n",
       "      <td>Hot Dog</td>\n",
       "      <td>American</td>\n",
       "      <td>9.00</td>\n",
       "    </tr>\n",
       "    <tr>\n",
       "      <th>3</th>\n",
       "      <td>104</td>\n",
       "      <td>Veggie Burger</td>\n",
       "      <td>American</td>\n",
       "      <td>10.50</td>\n",
       "    </tr>\n",
       "    <tr>\n",
       "      <th>4</th>\n",
       "      <td>105</td>\n",
       "      <td>Mac &amp; Cheese</td>\n",
       "      <td>American</td>\n",
       "      <td>7.00</td>\n",
       "    </tr>\n",
       "    <tr>\n",
       "      <th>5</th>\n",
       "      <td>106</td>\n",
       "      <td>French Fries</td>\n",
       "      <td>American</td>\n",
       "      <td>7.00</td>\n",
       "    </tr>\n",
       "    <tr>\n",
       "      <th>6</th>\n",
       "      <td>107</td>\n",
       "      <td>Orange Chicken</td>\n",
       "      <td>Asian</td>\n",
       "      <td>16.50</td>\n",
       "    </tr>\n",
       "    <tr>\n",
       "      <th>7</th>\n",
       "      <td>108</td>\n",
       "      <td>Tofu Pad Thai</td>\n",
       "      <td>Asian</td>\n",
       "      <td>14.50</td>\n",
       "    </tr>\n",
       "    <tr>\n",
       "      <th>8</th>\n",
       "      <td>109</td>\n",
       "      <td>Korean Beef Bowl</td>\n",
       "      <td>Asian</td>\n",
       "      <td>17.95</td>\n",
       "    </tr>\n",
       "    <tr>\n",
       "      <th>9</th>\n",
       "      <td>110</td>\n",
       "      <td>Pork Ramen</td>\n",
       "      <td>Asian</td>\n",
       "      <td>17.95</td>\n",
       "    </tr>\n",
       "    <tr>\n",
       "      <th>10</th>\n",
       "      <td>111</td>\n",
       "      <td>California Roll</td>\n",
       "      <td>Asian</td>\n",
       "      <td>11.95</td>\n",
       "    </tr>\n",
       "    <tr>\n",
       "      <th>11</th>\n",
       "      <td>112</td>\n",
       "      <td>Salmon Roll</td>\n",
       "      <td>Asian</td>\n",
       "      <td>14.95</td>\n",
       "    </tr>\n",
       "    <tr>\n",
       "      <th>12</th>\n",
       "      <td>113</td>\n",
       "      <td>Edamame</td>\n",
       "      <td>Asian</td>\n",
       "      <td>5.00</td>\n",
       "    </tr>\n",
       "    <tr>\n",
       "      <th>13</th>\n",
       "      <td>114</td>\n",
       "      <td>Potstickers</td>\n",
       "      <td>Asian</td>\n",
       "      <td>9.00</td>\n",
       "    </tr>\n",
       "    <tr>\n",
       "      <th>14</th>\n",
       "      <td>115</td>\n",
       "      <td>Chicken Tacos</td>\n",
       "      <td>Mexican</td>\n",
       "      <td>11.95</td>\n",
       "    </tr>\n",
       "    <tr>\n",
       "      <th>15</th>\n",
       "      <td>116</td>\n",
       "      <td>Steak Tacos</td>\n",
       "      <td>Mexican</td>\n",
       "      <td>13.95</td>\n",
       "    </tr>\n",
       "    <tr>\n",
       "      <th>16</th>\n",
       "      <td>117</td>\n",
       "      <td>Chicken Burrito</td>\n",
       "      <td>Mexican</td>\n",
       "      <td>12.95</td>\n",
       "    </tr>\n",
       "    <tr>\n",
       "      <th>17</th>\n",
       "      <td>118</td>\n",
       "      <td>Steak Burrito</td>\n",
       "      <td>Mexican</td>\n",
       "      <td>14.95</td>\n",
       "    </tr>\n",
       "    <tr>\n",
       "      <th>18</th>\n",
       "      <td>119</td>\n",
       "      <td>Chicken Torta</td>\n",
       "      <td>Mexican</td>\n",
       "      <td>11.95</td>\n",
       "    </tr>\n",
       "    <tr>\n",
       "      <th>19</th>\n",
       "      <td>120</td>\n",
       "      <td>Steak Torta</td>\n",
       "      <td>Mexican</td>\n",
       "      <td>13.95</td>\n",
       "    </tr>\n",
       "    <tr>\n",
       "      <th>20</th>\n",
       "      <td>121</td>\n",
       "      <td>Cheese Quesadillas</td>\n",
       "      <td>Mexican</td>\n",
       "      <td>10.50</td>\n",
       "    </tr>\n",
       "    <tr>\n",
       "      <th>21</th>\n",
       "      <td>122</td>\n",
       "      <td>Chips &amp; Salsa</td>\n",
       "      <td>Mexican</td>\n",
       "      <td>7.00</td>\n",
       "    </tr>\n",
       "    <tr>\n",
       "      <th>22</th>\n",
       "      <td>123</td>\n",
       "      <td>Chips &amp; Guacamole</td>\n",
       "      <td>Mexican</td>\n",
       "      <td>9.00</td>\n",
       "    </tr>\n",
       "    <tr>\n",
       "      <th>23</th>\n",
       "      <td>124</td>\n",
       "      <td>Spaghetti</td>\n",
       "      <td>Italian</td>\n",
       "      <td>14.50</td>\n",
       "    </tr>\n",
       "    <tr>\n",
       "      <th>24</th>\n",
       "      <td>125</td>\n",
       "      <td>Spaghetti &amp; Meatballs</td>\n",
       "      <td>Italian</td>\n",
       "      <td>17.95</td>\n",
       "    </tr>\n",
       "    <tr>\n",
       "      <th>25</th>\n",
       "      <td>126</td>\n",
       "      <td>Fettuccine Alfredo</td>\n",
       "      <td>Italian</td>\n",
       "      <td>14.50</td>\n",
       "    </tr>\n",
       "    <tr>\n",
       "      <th>26</th>\n",
       "      <td>127</td>\n",
       "      <td>Meat Lasagna</td>\n",
       "      <td>Italian</td>\n",
       "      <td>17.95</td>\n",
       "    </tr>\n",
       "    <tr>\n",
       "      <th>27</th>\n",
       "      <td>128</td>\n",
       "      <td>Cheese Lasagna</td>\n",
       "      <td>Italian</td>\n",
       "      <td>15.50</td>\n",
       "    </tr>\n",
       "    <tr>\n",
       "      <th>28</th>\n",
       "      <td>129</td>\n",
       "      <td>Mushroom Ravioli</td>\n",
       "      <td>Italian</td>\n",
       "      <td>15.50</td>\n",
       "    </tr>\n",
       "    <tr>\n",
       "      <th>29</th>\n",
       "      <td>130</td>\n",
       "      <td>Shrimp Scampi</td>\n",
       "      <td>Italian</td>\n",
       "      <td>19.95</td>\n",
       "    </tr>\n",
       "    <tr>\n",
       "      <th>30</th>\n",
       "      <td>131</td>\n",
       "      <td>Chicken Parmesan</td>\n",
       "      <td>Italian</td>\n",
       "      <td>17.95</td>\n",
       "    </tr>\n",
       "    <tr>\n",
       "      <th>31</th>\n",
       "      <td>132</td>\n",
       "      <td>Eggplant Parmesan</td>\n",
       "      <td>Italian</td>\n",
       "      <td>16.95</td>\n",
       "    </tr>\n",
       "  </tbody>\n",
       "</table>\n",
       "</div>"
      ],
      "text/plain": [
       "    menu_item_id              item_name  category  price\n",
       "0            101              Hamburger  American  12.95\n",
       "1            102           Cheeseburger  American  13.95\n",
       "2            103                Hot Dog  American   9.00\n",
       "3            104          Veggie Burger  American  10.50\n",
       "4            105           Mac & Cheese  American   7.00\n",
       "5            106           French Fries  American   7.00\n",
       "6            107         Orange Chicken     Asian  16.50\n",
       "7            108          Tofu Pad Thai     Asian  14.50\n",
       "8            109       Korean Beef Bowl     Asian  17.95\n",
       "9            110             Pork Ramen     Asian  17.95\n",
       "10           111        California Roll     Asian  11.95\n",
       "11           112            Salmon Roll     Asian  14.95\n",
       "12           113                Edamame     Asian   5.00\n",
       "13           114            Potstickers     Asian   9.00\n",
       "14           115          Chicken Tacos   Mexican  11.95\n",
       "15           116            Steak Tacos   Mexican  13.95\n",
       "16           117        Chicken Burrito   Mexican  12.95\n",
       "17           118          Steak Burrito   Mexican  14.95\n",
       "18           119          Chicken Torta   Mexican  11.95\n",
       "19           120            Steak Torta   Mexican  13.95\n",
       "20           121     Cheese Quesadillas   Mexican  10.50\n",
       "21           122          Chips & Salsa   Mexican   7.00\n",
       "22           123      Chips & Guacamole   Mexican   9.00\n",
       "23           124              Spaghetti   Italian  14.50\n",
       "24           125  Spaghetti & Meatballs   Italian  17.95\n",
       "25           126     Fettuccine Alfredo   Italian  14.50\n",
       "26           127           Meat Lasagna   Italian  17.95\n",
       "27           128         Cheese Lasagna   Italian  15.50\n",
       "28           129       Mushroom Ravioli   Italian  15.50\n",
       "29           130          Shrimp Scampi   Italian  19.95\n",
       "30           131       Chicken Parmesan   Italian  17.95\n",
       "31           132      Eggplant Parmesan   Italian  16.95"
      ]
     },
     "execution_count": 6,
     "metadata": {},
     "output_type": "execute_result"
    }
   ],
   "source": [
    "# read the dataset:\n",
    "df = pd.read_csv('menu_items.csv')\n",
    "df"
   ]
  },
  {
   "cell_type": "code",
   "execution_count": 4,
   "metadata": {},
   "outputs": [],
   "source": [
    "# Create a connection to a sqlite database (It will create one if it doesn't exist)\n",
    "conn = sqlite3.connect(\"example_1.db\")"
   ]
  },
  {
   "cell_type": "code",
   "execution_count": null,
   "metadata": {},
   "outputs": [
    {
     "name": "stdout",
     "output_type": "stream",
     "text": [
      "   menu_item_id      item_name  category  price\n",
      "0           101      Hamburger  American  12.95\n",
      "1           102   Cheeseburger  American  13.95\n",
      "2           103        Hot Dog  American   9.00\n",
      "3           104  Veggie Burger  American  10.50\n",
      "4           105   Mac & Cheese  American   7.00\n"
     ]
    }
   ],
   "source": [
    "\"\"\"query = \"SELECT * FROM menu LIMIT 5\"\n",
    "df = pd.read_sql(query, conn)\n",
    "\n",
    "print(df)\"\"\""
   ]
  },
  {
   "cell_type": "code",
   "execution_count": 7,
   "metadata": {},
   "outputs": [
    {
     "data": {
      "text/plain": [
       "32"
      ]
     },
     "execution_count": 7,
     "metadata": {},
     "output_type": "execute_result"
    }
   ],
   "source": [
    "# Load the Dataframe into Sql table\n",
    "df.to_sql('menu_items', conn, if_exists='replace', index=False)"
   ]
  },
  {
   "cell_type": "code",
   "execution_count": 8,
   "metadata": {},
   "outputs": [],
   "source": [
    "# # Close the connection (important when using %sql magic later)\n",
    "conn.close()"
   ]
  },
  {
   "cell_type": "code",
   "execution_count": 9,
   "metadata": {},
   "outputs": [],
   "source": [
    "# Load the extension\n",
    "%load_ext sql\n"
   ]
  },
  {
   "cell_type": "code",
   "execution_count": 22,
   "metadata": {},
   "outputs": [],
   "source": [
    "%reload_ext sql"
   ]
  },
  {
   "cell_type": "code",
   "execution_count": 10,
   "metadata": {},
   "outputs": [],
   "source": [
    "# connect to sqlite database\n",
    "%sql sqlite:///example_1.db\n"
   ]
  },
  {
   "cell_type": "markdown",
   "metadata": {},
   "source": [
    "## 1. View the \"menu_items\" Table."
   ]
  },
  {
   "cell_type": "code",
   "execution_count": 40,
   "metadata": {},
   "outputs": [
    {
     "name": "stdout",
     "output_type": "stream",
     "text": [
      " * sqlite:///example_1.db\n",
      "Done.\n"
     ]
    },
    {
     "data": {
      "text/html": [
       "<table>\n",
       "    <thead>\n",
       "        <tr>\n",
       "            <th>menu_item_id</th>\n",
       "            <th>item_name</th>\n",
       "            <th>category</th>\n",
       "            <th>price</th>\n",
       "        </tr>\n",
       "    </thead>\n",
       "    <tbody>\n",
       "        <tr>\n",
       "            <td>101</td>\n",
       "            <td>Hamburger</td>\n",
       "            <td>American</td>\n",
       "            <td>12.95</td>\n",
       "        </tr>\n",
       "        <tr>\n",
       "            <td>102</td>\n",
       "            <td>Cheeseburger</td>\n",
       "            <td>American</td>\n",
       "            <td>13.95</td>\n",
       "        </tr>\n",
       "        <tr>\n",
       "            <td>103</td>\n",
       "            <td>Hot Dog</td>\n",
       "            <td>American</td>\n",
       "            <td>9.0</td>\n",
       "        </tr>\n",
       "        <tr>\n",
       "            <td>104</td>\n",
       "            <td>Veggie Burger</td>\n",
       "            <td>American</td>\n",
       "            <td>10.5</td>\n",
       "        </tr>\n",
       "        <tr>\n",
       "            <td>105</td>\n",
       "            <td>Mac &amp; Cheese</td>\n",
       "            <td>American</td>\n",
       "            <td>7.0</td>\n",
       "        </tr>\n",
       "        <tr>\n",
       "            <td>106</td>\n",
       "            <td>French Fries</td>\n",
       "            <td>American</td>\n",
       "            <td>7.0</td>\n",
       "        </tr>\n",
       "        <tr>\n",
       "            <td>107</td>\n",
       "            <td>Orange Chicken</td>\n",
       "            <td>Asian</td>\n",
       "            <td>16.5</td>\n",
       "        </tr>\n",
       "        <tr>\n",
       "            <td>108</td>\n",
       "            <td>Tofu Pad Thai</td>\n",
       "            <td>Asian</td>\n",
       "            <td>14.5</td>\n",
       "        </tr>\n",
       "        <tr>\n",
       "            <td>109</td>\n",
       "            <td>Korean Beef Bowl</td>\n",
       "            <td>Asian</td>\n",
       "            <td>17.95</td>\n",
       "        </tr>\n",
       "        <tr>\n",
       "            <td>110</td>\n",
       "            <td>Pork Ramen</td>\n",
       "            <td>Asian</td>\n",
       "            <td>17.95</td>\n",
       "        </tr>\n",
       "        <tr>\n",
       "            <td>111</td>\n",
       "            <td>California Roll</td>\n",
       "            <td>Asian</td>\n",
       "            <td>11.95</td>\n",
       "        </tr>\n",
       "        <tr>\n",
       "            <td>112</td>\n",
       "            <td>Salmon Roll</td>\n",
       "            <td>Asian</td>\n",
       "            <td>14.95</td>\n",
       "        </tr>\n",
       "        <tr>\n",
       "            <td>113</td>\n",
       "            <td>Edamame</td>\n",
       "            <td>Asian</td>\n",
       "            <td>5.0</td>\n",
       "        </tr>\n",
       "        <tr>\n",
       "            <td>114</td>\n",
       "            <td>Potstickers</td>\n",
       "            <td>Asian</td>\n",
       "            <td>9.0</td>\n",
       "        </tr>\n",
       "        <tr>\n",
       "            <td>115</td>\n",
       "            <td>Chicken Tacos</td>\n",
       "            <td>Mexican</td>\n",
       "            <td>11.95</td>\n",
       "        </tr>\n",
       "        <tr>\n",
       "            <td>116</td>\n",
       "            <td>Steak Tacos</td>\n",
       "            <td>Mexican</td>\n",
       "            <td>13.95</td>\n",
       "        </tr>\n",
       "        <tr>\n",
       "            <td>117</td>\n",
       "            <td>Chicken Burrito</td>\n",
       "            <td>Mexican</td>\n",
       "            <td>12.95</td>\n",
       "        </tr>\n",
       "        <tr>\n",
       "            <td>118</td>\n",
       "            <td>Steak Burrito</td>\n",
       "            <td>Mexican</td>\n",
       "            <td>14.95</td>\n",
       "        </tr>\n",
       "        <tr>\n",
       "            <td>119</td>\n",
       "            <td>Chicken Torta</td>\n",
       "            <td>Mexican</td>\n",
       "            <td>11.95</td>\n",
       "        </tr>\n",
       "        <tr>\n",
       "            <td>120</td>\n",
       "            <td>Steak Torta</td>\n",
       "            <td>Mexican</td>\n",
       "            <td>13.95</td>\n",
       "        </tr>\n",
       "        <tr>\n",
       "            <td>121</td>\n",
       "            <td>Cheese Quesadillas</td>\n",
       "            <td>Mexican</td>\n",
       "            <td>10.5</td>\n",
       "        </tr>\n",
       "        <tr>\n",
       "            <td>122</td>\n",
       "            <td>Chips &amp; Salsa</td>\n",
       "            <td>Mexican</td>\n",
       "            <td>7.0</td>\n",
       "        </tr>\n",
       "        <tr>\n",
       "            <td>123</td>\n",
       "            <td>Chips &amp; Guacamole</td>\n",
       "            <td>Mexican</td>\n",
       "            <td>9.0</td>\n",
       "        </tr>\n",
       "        <tr>\n",
       "            <td>124</td>\n",
       "            <td>Spaghetti</td>\n",
       "            <td>Italian</td>\n",
       "            <td>14.5</td>\n",
       "        </tr>\n",
       "        <tr>\n",
       "            <td>125</td>\n",
       "            <td>Spaghetti &amp; Meatballs</td>\n",
       "            <td>Italian</td>\n",
       "            <td>17.95</td>\n",
       "        </tr>\n",
       "        <tr>\n",
       "            <td>126</td>\n",
       "            <td>Fettuccine Alfredo</td>\n",
       "            <td>Italian</td>\n",
       "            <td>14.5</td>\n",
       "        </tr>\n",
       "        <tr>\n",
       "            <td>127</td>\n",
       "            <td>Meat Lasagna</td>\n",
       "            <td>Italian</td>\n",
       "            <td>17.95</td>\n",
       "        </tr>\n",
       "        <tr>\n",
       "            <td>128</td>\n",
       "            <td>Cheese Lasagna</td>\n",
       "            <td>Italian</td>\n",
       "            <td>15.5</td>\n",
       "        </tr>\n",
       "        <tr>\n",
       "            <td>129</td>\n",
       "            <td>Mushroom Ravioli</td>\n",
       "            <td>Italian</td>\n",
       "            <td>15.5</td>\n",
       "        </tr>\n",
       "        <tr>\n",
       "            <td>130</td>\n",
       "            <td>Shrimp Scampi</td>\n",
       "            <td>Italian</td>\n",
       "            <td>19.95</td>\n",
       "        </tr>\n",
       "        <tr>\n",
       "            <td>131</td>\n",
       "            <td>Chicken Parmesan</td>\n",
       "            <td>Italian</td>\n",
       "            <td>17.95</td>\n",
       "        </tr>\n",
       "        <tr>\n",
       "            <td>132</td>\n",
       "            <td>Eggplant Parmesan</td>\n",
       "            <td>Italian</td>\n",
       "            <td>16.95</td>\n",
       "        </tr>\n",
       "    </tbody>\n",
       "</table>"
      ],
      "text/plain": [
       "[(101, 'Hamburger', 'American', 12.95),\n",
       " (102, 'Cheeseburger', 'American', 13.95),\n",
       " (103, 'Hot Dog', 'American', 9.0),\n",
       " (104, 'Veggie Burger', 'American', 10.5),\n",
       " (105, 'Mac & Cheese', 'American', 7.0),\n",
       " (106, 'French Fries', 'American', 7.0),\n",
       " (107, 'Orange Chicken', 'Asian', 16.5),\n",
       " (108, 'Tofu Pad Thai', 'Asian', 14.5),\n",
       " (109, 'Korean Beef Bowl', 'Asian', 17.95),\n",
       " (110, 'Pork Ramen', 'Asian', 17.95),\n",
       " (111, 'California Roll', 'Asian', 11.95),\n",
       " (112, 'Salmon Roll', 'Asian', 14.95),\n",
       " (113, 'Edamame', 'Asian', 5.0),\n",
       " (114, 'Potstickers', 'Asian', 9.0),\n",
       " (115, 'Chicken Tacos', 'Mexican', 11.95),\n",
       " (116, 'Steak Tacos', 'Mexican', 13.95),\n",
       " (117, 'Chicken Burrito', 'Mexican', 12.95),\n",
       " (118, 'Steak Burrito', 'Mexican', 14.95),\n",
       " (119, 'Chicken Torta', 'Mexican', 11.95),\n",
       " (120, 'Steak Torta', 'Mexican', 13.95),\n",
       " (121, 'Cheese Quesadillas', 'Mexican', 10.5),\n",
       " (122, 'Chips & Salsa', 'Mexican', 7.0),\n",
       " (123, 'Chips & Guacamole', 'Mexican', 9.0),\n",
       " (124, 'Spaghetti', 'Italian', 14.5),\n",
       " (125, 'Spaghetti & Meatballs', 'Italian', 17.95),\n",
       " (126, 'Fettuccine Alfredo', 'Italian', 14.5),\n",
       " (127, 'Meat Lasagna', 'Italian', 17.95),\n",
       " (128, 'Cheese Lasagna', 'Italian', 15.5),\n",
       " (129, 'Mushroom Ravioli', 'Italian', 15.5),\n",
       " (130, 'Shrimp Scampi', 'Italian', 19.95),\n",
       " (131, 'Chicken Parmesan', 'Italian', 17.95),\n",
       " (132, 'Eggplant Parmesan', 'Italian', 16.95)]"
      ]
     },
     "execution_count": 40,
     "metadata": {},
     "output_type": "execute_result"
    }
   ],
   "source": [
    "%%sql\n",
    "\n",
    "SELECT * FROM menu_items; "
   ]
  },
  {
   "cell_type": "markdown",
   "metadata": {},
   "source": [
    "## 2. Find the number of items on the menu."
   ]
  },
  {
   "cell_type": "code",
   "execution_count": 36,
   "metadata": {},
   "outputs": [
    {
     "name": "stdout",
     "output_type": "stream",
     "text": [
      " * sqlite:///example_1.db\n",
      "Done.\n"
     ]
    },
    {
     "data": {
      "text/html": [
       "<table>\n",
       "    <thead>\n",
       "        <tr>\n",
       "            <th>COUNT(*)</th>\n",
       "        </tr>\n",
       "    </thead>\n",
       "    <tbody>\n",
       "        <tr>\n",
       "            <td>32</td>\n",
       "        </tr>\n",
       "    </tbody>\n",
       "</table>"
      ],
      "text/plain": [
       "[(32,)]"
      ]
     },
     "execution_count": 36,
     "metadata": {},
     "output_type": "execute_result"
    }
   ],
   "source": [
    "%%sql\n",
    "\n",
    "SELECT COUNT(*) FROM menu_items;"
   ]
  },
  {
   "cell_type": "markdown",
   "metadata": {},
   "source": [
    "## 3. What are the least and most expensive items on the menu."
   ]
  },
  {
   "cell_type": "code",
   "execution_count": 51,
   "metadata": {},
   "outputs": [
    {
     "name": "stdout",
     "output_type": "stream",
     "text": [
      " * sqlite:///example_1.db\n",
      "Done.\n"
     ]
    },
    {
     "data": {
      "text/html": [
       "<table>\n",
       "    <thead>\n",
       "        <tr>\n",
       "            <th>menu_item_id</th>\n",
       "            <th>item_name</th>\n",
       "            <th>category</th>\n",
       "            <th>price</th>\n",
       "        </tr>\n",
       "    </thead>\n",
       "    <tbody>\n",
       "        <tr>\n",
       "            <td>113</td>\n",
       "            <td>Edamame</td>\n",
       "            <td>Asian</td>\n",
       "            <td>5.0</td>\n",
       "        </tr>\n",
       "    </tbody>\n",
       "</table>"
      ],
      "text/plain": [
       "[(113, 'Edamame', 'Asian', 5.0)]"
      ]
     },
     "execution_count": 51,
     "metadata": {},
     "output_type": "execute_result"
    }
   ],
   "source": [
    "%%sql\n",
    "\n",
    "SELECT * FROM menu_items ORDER BY price LIMIT 1;\n"
   ]
  },
  {
   "cell_type": "code",
   "execution_count": 52,
   "metadata": {},
   "outputs": [
    {
     "name": "stdout",
     "output_type": "stream",
     "text": [
      " * sqlite:///example_1.db\n",
      "Done.\n"
     ]
    },
    {
     "data": {
      "text/html": [
       "<table>\n",
       "    <thead>\n",
       "        <tr>\n",
       "            <th>menu_item_id</th>\n",
       "            <th>item_name</th>\n",
       "            <th>category</th>\n",
       "            <th>price</th>\n",
       "        </tr>\n",
       "    </thead>\n",
       "    <tbody>\n",
       "        <tr>\n",
       "            <td>130</td>\n",
       "            <td>Shrimp Scampi</td>\n",
       "            <td>Italian</td>\n",
       "            <td>19.95</td>\n",
       "        </tr>\n",
       "    </tbody>\n",
       "</table>"
      ],
      "text/plain": [
       "[(130, 'Shrimp Scampi', 'Italian', 19.95)]"
      ]
     },
     "execution_count": 52,
     "metadata": {},
     "output_type": "execute_result"
    }
   ],
   "source": [
    "%%sql\n",
    "\n",
    "SELECT * FROM menu_items ORDER BY price DESC LIMIT 1;"
   ]
  },
  {
   "cell_type": "markdown",
   "metadata": {},
   "source": [
    "## 4. Count how many italian dish on the menu."
   ]
  },
  {
   "cell_type": "code",
   "execution_count": 53,
   "metadata": {},
   "outputs": [
    {
     "name": "stdout",
     "output_type": "stream",
     "text": [
      " * sqlite:///example_1.db\n",
      "Done.\n"
     ]
    },
    {
     "data": {
      "text/html": [
       "<table>\n",
       "    <thead>\n",
       "        <tr>\n",
       "            <th>menu_item_id</th>\n",
       "            <th>item_name</th>\n",
       "            <th>category</th>\n",
       "            <th>price</th>\n",
       "        </tr>\n",
       "    </thead>\n",
       "    <tbody>\n",
       "        <tr>\n",
       "            <td>124</td>\n",
       "            <td>Spaghetti</td>\n",
       "            <td>Italian</td>\n",
       "            <td>14.5</td>\n",
       "        </tr>\n",
       "        <tr>\n",
       "            <td>125</td>\n",
       "            <td>Spaghetti &amp; Meatballs</td>\n",
       "            <td>Italian</td>\n",
       "            <td>17.95</td>\n",
       "        </tr>\n",
       "        <tr>\n",
       "            <td>126</td>\n",
       "            <td>Fettuccine Alfredo</td>\n",
       "            <td>Italian</td>\n",
       "            <td>14.5</td>\n",
       "        </tr>\n",
       "        <tr>\n",
       "            <td>127</td>\n",
       "            <td>Meat Lasagna</td>\n",
       "            <td>Italian</td>\n",
       "            <td>17.95</td>\n",
       "        </tr>\n",
       "        <tr>\n",
       "            <td>128</td>\n",
       "            <td>Cheese Lasagna</td>\n",
       "            <td>Italian</td>\n",
       "            <td>15.5</td>\n",
       "        </tr>\n",
       "        <tr>\n",
       "            <td>129</td>\n",
       "            <td>Mushroom Ravioli</td>\n",
       "            <td>Italian</td>\n",
       "            <td>15.5</td>\n",
       "        </tr>\n",
       "        <tr>\n",
       "            <td>130</td>\n",
       "            <td>Shrimp Scampi</td>\n",
       "            <td>Italian</td>\n",
       "            <td>19.95</td>\n",
       "        </tr>\n",
       "        <tr>\n",
       "            <td>131</td>\n",
       "            <td>Chicken Parmesan</td>\n",
       "            <td>Italian</td>\n",
       "            <td>17.95</td>\n",
       "        </tr>\n",
       "        <tr>\n",
       "            <td>132</td>\n",
       "            <td>Eggplant Parmesan</td>\n",
       "            <td>Italian</td>\n",
       "            <td>16.95</td>\n",
       "        </tr>\n",
       "    </tbody>\n",
       "</table>"
      ],
      "text/plain": [
       "[(124, 'Spaghetti', 'Italian', 14.5),\n",
       " (125, 'Spaghetti & Meatballs', 'Italian', 17.95),\n",
       " (126, 'Fettuccine Alfredo', 'Italian', 14.5),\n",
       " (127, 'Meat Lasagna', 'Italian', 17.95),\n",
       " (128, 'Cheese Lasagna', 'Italian', 15.5),\n",
       " (129, 'Mushroom Ravioli', 'Italian', 15.5),\n",
       " (130, 'Shrimp Scampi', 'Italian', 19.95),\n",
       " (131, 'Chicken Parmesan', 'Italian', 17.95),\n",
       " (132, 'Eggplant Parmesan', 'Italian', 16.95)]"
      ]
     },
     "execution_count": 53,
     "metadata": {},
     "output_type": "execute_result"
    }
   ],
   "source": [
    "%%sql\n",
    "\n",
    "SELECT * FROM menu_items\n",
    "WHERE category = 'Italian';"
   ]
  },
  {
   "cell_type": "code",
   "execution_count": 54,
   "metadata": {},
   "outputs": [
    {
     "name": "stdout",
     "output_type": "stream",
     "text": [
      " * sqlite:///example_1.db\n",
      "Done.\n"
     ]
    },
    {
     "data": {
      "text/html": [
       "<table>\n",
       "    <thead>\n",
       "        <tr>\n",
       "            <th>COUNT(*)</th>\n",
       "        </tr>\n",
       "    </thead>\n",
       "    <tbody>\n",
       "        <tr>\n",
       "            <td>9</td>\n",
       "        </tr>\n",
       "    </tbody>\n",
       "</table>"
      ],
      "text/plain": [
       "[(9,)]"
      ]
     },
     "execution_count": 54,
     "metadata": {},
     "output_type": "execute_result"
    }
   ],
   "source": [
    "%%sql\n",
    "\n",
    "SELECT COUNT(*) FROM menu_items\n",
    "WHERE category = 'Italian';"
   ]
  },
  {
   "cell_type": "markdown",
   "metadata": {},
   "source": [
    "## 5. What are the least and most expensive italian dishes on the menu."
   ]
  },
  {
   "cell_type": "code",
   "execution_count": 60,
   "metadata": {},
   "outputs": [
    {
     "name": "stdout",
     "output_type": "stream",
     "text": [
      " * sqlite:///example_1.db\n",
      "Done.\n"
     ]
    },
    {
     "data": {
      "text/html": [
       "<table>\n",
       "    <thead>\n",
       "        <tr>\n",
       "            <th>menu_item_id</th>\n",
       "            <th>item_name</th>\n",
       "            <th>category</th>\n",
       "            <th>price</th>\n",
       "        </tr>\n",
       "    </thead>\n",
       "    <tbody>\n",
       "        <tr>\n",
       "            <td>124</td>\n",
       "            <td>Spaghetti</td>\n",
       "            <td>Italian</td>\n",
       "            <td>14.5</td>\n",
       "        </tr>\n",
       "    </tbody>\n",
       "</table>"
      ],
      "text/plain": [
       "[(124, 'Spaghetti', 'Italian', 14.5)]"
      ]
     },
     "execution_count": 60,
     "metadata": {},
     "output_type": "execute_result"
    }
   ],
   "source": [
    "%%sql\n",
    "\n",
    "SELECT  * FROM menu_items\n",
    "WHERE category = 'Italian'\n",
    "ORDER BY price LIMIT 1;"
   ]
  },
  {
   "cell_type": "code",
   "execution_count": 59,
   "metadata": {},
   "outputs": [
    {
     "name": "stdout",
     "output_type": "stream",
     "text": [
      " * sqlite:///example_1.db\n",
      "Done.\n"
     ]
    },
    {
     "data": {
      "text/html": [
       "<table>\n",
       "    <thead>\n",
       "        <tr>\n",
       "            <th>menu_item_id</th>\n",
       "            <th>item_name</th>\n",
       "            <th>category</th>\n",
       "            <th>price</th>\n",
       "        </tr>\n",
       "    </thead>\n",
       "    <tbody>\n",
       "        <tr>\n",
       "            <td>130</td>\n",
       "            <td>Shrimp Scampi</td>\n",
       "            <td>Italian</td>\n",
       "            <td>19.95</td>\n",
       "        </tr>\n",
       "    </tbody>\n",
       "</table>"
      ],
      "text/plain": [
       "[(130, 'Shrimp Scampi', 'Italian', 19.95)]"
      ]
     },
     "execution_count": 59,
     "metadata": {},
     "output_type": "execute_result"
    }
   ],
   "source": [
    "%%sql\n",
    "\n",
    "SELECT  * FROM menu_items\n",
    "WHERE category = 'Italian'\n",
    "ORDER BY price DESC LIMIT 1;"
   ]
  },
  {
   "cell_type": "markdown",
   "metadata": {},
   "source": [
    "## 6. How many dishes are there in each category."
   ]
  },
  {
   "cell_type": "code",
   "execution_count": 63,
   "metadata": {},
   "outputs": [
    {
     "name": "stdout",
     "output_type": "stream",
     "text": [
      " * sqlite:///example_1.db\n",
      "Done.\n"
     ]
    },
    {
     "data": {
      "text/html": [
       "<table>\n",
       "    <thead>\n",
       "        <tr>\n",
       "            <th>category</th>\n",
       "            <th>Number_of_dishes</th>\n",
       "        </tr>\n",
       "    </thead>\n",
       "    <tbody>\n",
       "        <tr>\n",
       "            <td>American</td>\n",
       "            <td>6</td>\n",
       "        </tr>\n",
       "        <tr>\n",
       "            <td>Asian</td>\n",
       "            <td>8</td>\n",
       "        </tr>\n",
       "        <tr>\n",
       "            <td>Italian</td>\n",
       "            <td>9</td>\n",
       "        </tr>\n",
       "        <tr>\n",
       "            <td>Mexican</td>\n",
       "            <td>9</td>\n",
       "        </tr>\n",
       "    </tbody>\n",
       "</table>"
      ],
      "text/plain": [
       "[('American', 6), ('Asian', 8), ('Italian', 9), ('Mexican', 9)]"
      ]
     },
     "execution_count": 63,
     "metadata": {},
     "output_type": "execute_result"
    }
   ],
   "source": [
    "%%sql\n",
    "\n",
    "SELECT category, COUNT('menu_items_id') as Number_of_dishes\n",
    "FROM menu_items\n",
    "GROUP BY category;"
   ]
  },
  {
   "cell_type": "markdown",
   "metadata": {},
   "source": [
    "## 7. What is the average dish price within each category?"
   ]
  },
  {
   "cell_type": "code",
   "execution_count": 69,
   "metadata": {},
   "outputs": [
    {
     "name": "stdout",
     "output_type": "stream",
     "text": [
      " * sqlite:///example_1.db\n",
      "Done.\n"
     ]
    },
    {
     "data": {
      "text/html": [
       "<table>\n",
       "    <thead>\n",
       "        <tr>\n",
       "            <th>category</th>\n",
       "            <th>average_price</th>\n",
       "        </tr>\n",
       "    </thead>\n",
       "    <tbody>\n",
       "        <tr>\n",
       "            <td>American</td>\n",
       "            <td>10.07</td>\n",
       "        </tr>\n",
       "        <tr>\n",
       "            <td>Asian</td>\n",
       "            <td>13.47</td>\n",
       "        </tr>\n",
       "        <tr>\n",
       "            <td>Italian</td>\n",
       "            <td>16.75</td>\n",
       "        </tr>\n",
       "        <tr>\n",
       "            <td>Mexican</td>\n",
       "            <td>11.8</td>\n",
       "        </tr>\n",
       "    </tbody>\n",
       "</table>"
      ],
      "text/plain": [
       "[('American', 10.07), ('Asian', 13.47), ('Italian', 16.75), ('Mexican', 11.8)]"
      ]
     },
     "execution_count": 69,
     "metadata": {},
     "output_type": "execute_result"
    }
   ],
   "source": [
    "%%sql\n",
    "\n",
    "SELECT category, ROUND(AVG(price), 2) as average_price\n",
    "FROM menu_items\n",
    "GROUP BY category;"
   ]
  }
 ],
 "metadata": {
  "kernelspec": {
   "display_name": "Python 3",
   "language": "python",
   "name": "python3"
  },
  "language_info": {
   "codemirror_mode": {
    "name": "ipython",
    "version": 3
   },
   "file_extension": ".py",
   "mimetype": "text/x-python",
   "name": "python",
   "nbconvert_exporter": "python",
   "pygments_lexer": "ipython3",
   "version": "3.13.2"
  }
 },
 "nbformat": 4,
 "nbformat_minor": 2
}
